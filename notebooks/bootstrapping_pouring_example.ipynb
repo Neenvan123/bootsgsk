{
 "cells": [
  {
   "cell_type": "markdown",
   "id": "795e31c3-ede8-476f-a7bd-cd4b8911d3ea",
   "metadata": {
    "execution": {
     "iopub.execute_input": "2024-01-22T16:09:32.961531Z",
     "iopub.status.busy": "2024-01-22T16:09:32.961000Z",
     "iopub.status.idle": "2024-01-22T16:09:32.963371Z",
     "shell.execute_reply": "2024-01-22T16:09:32.962935Z",
     "shell.execute_reply.started": "2024-01-22T16:09:32.961514Z"
    }
   },
   "source": [
    "# HSR Mujoco Example\n",
    "\n",
    "HSR in Mujoco simulator.\n",
    "\n",
    "### Dependencies:\n",
    "\n",
    "1. [Giskard branch: mujoco_actions_devel](https://github.com/SemRoCo/giskardpy/tree/37b4048c3787c1f5f0370ca4e8ee10754eaa12c9)\n",
    "\n",
    "1. [mujoco_sim](https://github.com/HoangGiang93/mujoco_sim)\n",
    "\n",
    "1. [HSR description files](https://github.com/maltehue/mujoco_robots)"
   ]
  },
  {
   "cell_type": "markdown",
   "id": "8e5cc757-63f6-4314-bac6-93021e6b24d5",
   "metadata": {
    "execution": {
     "iopub.execute_input": "2024-01-22T16:09:32.961531Z",
     "iopub.status.busy": "2024-01-22T16:09:32.961000Z",
     "iopub.status.idle": "2024-01-22T16:09:32.963371Z",
     "shell.execute_reply": "2024-01-22T16:09:32.962935Z",
     "shell.execute_reply.started": "2024-01-22T16:09:32.961514Z"
    }
   },
   "source": [
    "## 1. Launch Robot and envrionment"
   ]
  },
  {
   "cell_type": "markdown",
   "source": [
    "# What is the bootstrapping approach for the task learning?\n",
    "In the context of teaching, the bootstrapping approach often involves starting with basic knowledge or skills and then iteratively improving or expanding upon them through additional learning experiences, in this case by interacting with a human mentor. This approach allows learners to gradually acquire more complex knowledge or abilities by building on what they already know. Bootstrapping is a common strategy in education and learning systems, helping individuals incrementally develop their expertise.\n",
    "\n",
    "For the learning of the pouring task, a task-learning strategy has been developed by leveraging primitive actions that the PR2 robot can execute using GISKARD's primitive motion skills. This strategy involves breaking down the pouring task into already existing skills that the robot knows how to execute. By utilizing these primitive skills, the robot can gradually learn and perform the complete pouring task. When the instruction to save the learning plan is given, the robot can then incorporate this complex plan into its existing repertoire of skills. This method allows the robot to accumulate and store knowledge about various tasks and their constraints, contributing to its overall capabilities."
   ],
   "metadata": {
    "collapsed": false
   },
   "id": "9e788ab5ecb636ff"
  },
  {
   "cell_type": "code",
   "execution_count": 1,
   "id": "4c8a831f-a907-4497-8452-9a80fab96a1b",
   "metadata": {
    "execution": {
     "iopub.execute_input": "2024-02-06T15:46:23.404865Z",
     "iopub.status.busy": "2024-02-06T15:46:23.404541Z",
     "iopub.status.idle": "2024-02-06T15:46:23.632580Z",
     "shell.execute_reply": "2024-02-06T15:46:23.632222Z",
     "shell.execute_reply.started": "2024-02-06T15:46:23.404850Z"
    },
    "jupyter": {
     "source_hidden": true
    }
   },
   "outputs": [
    {
     "data": {
      "application/vnd.jupyter.widget-view+json": {
       "model_id": "4213cbe4e324425da76928256ef11d8b",
       "version_major": 2,
       "version_minor": 0
      },
      "text/plain": [
       "VBox(children=(ToggleButtons(description='robots', options=('HSR', 'HSR with a cup', 'HSR with a tray'), toolt…"
      ]
     },
     "metadata": {},
     "output_type": "display_data"
    }
   ],
   "source": [
    "import os\n",
    "import psutil\n",
    "import subprocess\n",
    "import rospy\n",
    "from ipywidgets import Button, Layout, GridBox, VBox, FloatSlider, ToggleButtons, Box\n",
    "from IPython.display import display, Markdown, IFrame\n",
    "from sidecar import Sidecar\n",
    "\n",
    "# Directory of the ROS launch files\n",
    "LAUNCH_FILE_DIR = os.path.abspath(os.path.join(os.getcwd(), \"../launch\"))\n",
    "# To display web UI on the left\n",
    "SIDECAR = None\n",
    "# To manage the roslaunch process in the background\n",
    "LAUNCH_PROCESS = None\n",
    "\n",
    "# UI widgets variables\n",
    "UI_CONFIG = {\n",
    "    'robots': [\n",
    "        {\n",
    "            'name': 'HSR with a cup',\n",
    "            'value': '$(find hsr_mujoco)/model/hsrb4s.xml',\n",
    "        }\n",
    "    ],\n",
    "    'worlds': [\n",
    "        {\n",
    "            'name': 'world_particle_container',\n",
    "            'value': '$(find hsr_mujoco)/model/world_two_cups.xml',\n",
    "        }\n",
    "    ]\n",
    "}\n",
    "SELECTED_ROBOT = UI_CONFIG['robots'][0]['value']\n",
    "SELECTED_WORLD = UI_CONFIG['worlds'][0]['value']\n",
    "\n",
    "try:\n",
    "    DISPLAY_NUM = os.environ['DISPLAY']\n",
    "except KeyError:\n",
    "    DISPLAY_NUM = None\n",
    "\n",
    "# Popup the xpra desktop on the left panel\n",
    "def open_xpra():\n",
    "    global SIDECAR\n",
    "    if SIDECAR is not None:\n",
    "        SIDECAR.close()\n",
    "    SIDECAR = Sidecar(title='XRPA', anchor='right')\n",
    "    try:\n",
    "        JUPYTERHUB_USER = '/user/' + os.environ['JUPYTERHUB_USER']\n",
    "    except KeyError:\n",
    "        JUPYTERHUB_USER = ''\n",
    "    xpra_url = f\"{JUPYTERHUB_USER}/xprahtml5/index.html\"\n",
    "    print(xpra_url)\n",
    "    with SIDECAR:\n",
    "        display(IFrame(src=xpra_url, width='100%', height='100%'))\n",
    "\n",
    "# Execute the roslaunch command\n",
    "def launch_simulation():\n",
    "    global LAUNCH_PROCESS\n",
    "    if LAUNCH_PROCESS is not None:\n",
    "        LAUNCH_PROCESS.terminate()\n",
    "        LAUNCH_PROCESS.wait()\n",
    "    if DISPLAY_NUM == ':100' or True:\n",
    "        open_xpra()\n",
    "    launchfile = os.path.join(LAUNCH_FILE_DIR, \"hsrb4s_velocity_two_cups.launch\")\n",
    "    command = [\n",
    "        'roslaunch', \n",
    "        launchfile,\n",
    "        'gui:=false',\n",
    "        'web:=false',\n",
    "        f\"mujoco_robot:={SELECTED_ROBOT}\",\n",
    "        f\"mujoco_world:={SELECTED_WORLD}\"\n",
    "    ]\n",
    "    LAUNCH_PROCESS = psutil.Popen(command,\n",
    "        stdout=subprocess.DEVNULL,\n",
    "        stderr=subprocess.DEVNULL)\n",
    "    print(f\"\"\"\n",
    "        Executing command: \n",
    "        {' '.join(command)}\n",
    "        in the background, the output will be hidden. \n",
    "        To check the output please execute it in a Terminial!\n",
    "    \"\"\")\n",
    "    launch_giskard()\n",
    "    \n",
    "# Execute the roslaunch command\n",
    "def launch_giskard():\n",
    "    global LAUNCH_PROCESS\n",
    "    if LAUNCH_PROCESS is not None:\n",
    "        LAUNCH_PROCESS.terminate()\n",
    "        LAUNCH_PROCESS.wait()\n",
    "    if DISPLAY_NUM == ':100' or True:\n",
    "        open_xpra()\n",
    "    launchfile = os.path.join(LAUNCH_FILE_DIR, \"giskardpy_hsr_mujoco.launch\")\n",
    "    command = [\n",
    "        'roslaunch', \n",
    "        launchfile,\n",
    "        'gui:=false',\n",
    "        'web:=false',\n",
    "        f\"mujoco_robot:={SELECTED_ROBOT}\",\n",
    "        f\"mujoco_world:={SELECTED_WORLD}\"\n",
    "    ]\n",
    "    LAUNCH_PROCESS = psutil.Popen(command,\n",
    "        stdout=subprocess.DEVNULL,\n",
    "        stderr=subprocess.DEVNULL)\n",
    "    print(f\"\"\"\n",
    "        Executing command: \n",
    "        {' '.join(command)}\n",
    "        in the background, the output will be hidden. \n",
    "        To check the output please execute it in a Terminial!\n",
    "    \"\"\")\n",
    "\n",
    "# Create UI widgets\n",
    "def select_robot(index):\n",
    "    global SELECTED_ROBOT\n",
    "    SELECTED_ROBOT = UI_CONFIG['robots'][index]['value']\n",
    "\n",
    "def select_world(index):\n",
    "    global SELECTED_WORLD\n",
    "    SELECTED_WORLD = UI_CONFIG['worlds'][index]['value']\n",
    "\n",
    "def create_widgets(config):\n",
    "    widgets = []\n",
    "    robot_select = ToggleButtons(\n",
    "        options=[i['name'] for i in config['robots']],\n",
    "        description='robots',\n",
    "        tooltips=[i['value'] for i in config['robots']],\n",
    "    )\n",
    "    robot_select.observe(lambda v: select_robot(v['new']), names=\"index\")\n",
    "\n",
    "    world_select = ToggleButtons(\n",
    "        options=[i['name'] for i in config['worlds']],\n",
    "        description='worlds',\n",
    "        tooltips=[i['value'] for i in config['worlds']],\n",
    "    )\n",
    "    world_select.observe(lambda v: select_world(v['new']), names=\"index\")\n",
    "\n",
    "    Launch_btn = Button(\n",
    "        description='Launch Simulation',\n",
    "        layout=Layout(width='auto'),\n",
    "        button_style='success'\n",
    "    )\n",
    "    Launch_btn.on_click(lambda b: launch_simulation())\n",
    "    widgets.append(robot_select)\n",
    "    widgets.append(world_select)\n",
    "    widgets.append(Launch_btn)\n",
    "    return VBox(widgets)\n",
    "\n",
    "# Display widgets\n",
    "display(create_widgets(UI_CONFIG))"
   ]
  },
  {
   "cell_type": "markdown",
   "id": "c62dcdbd-f356-4ae0-b91c-fb70322e21b7",
   "metadata": {},
   "source": [
    "## 2. Control the robot with the Giskard Python Interface"
   ]
  },
  {
   "cell_type": "code",
   "execution_count": 2,
   "id": "010a0a96-7567-4b04-85b4-827b625e8bb5",
   "metadata": {
    "execution": {
     "iopub.execute_input": "2024-02-06T15:46:23.633678Z",
     "iopub.status.busy": "2024-02-06T15:46:23.633319Z",
     "iopub.status.idle": "2024-02-06T15:46:24.102913Z",
     "shell.execute_reply": "2024-02-06T15:46:24.102443Z",
     "shell.execute_reply.started": "2024-02-06T15:46:23.633664Z"
    },
    "jupyter": {
     "source_hidden": true
    }
   },
   "outputs": [],
   "source": [
    "import rospy\n",
    "import random\n",
    "from giskardpy.python_interface.python_interface import GiskardWrapper\n",
    "from giskardpy.goals.joint_goals import JointPositionList\n",
    "from giskardpy.monitors.joint_monitors import JointGoalReached\n",
    "from geometry_msgs.msg import PoseStamped, Point, Quaternion, Vector3Stamped, PointStamped, QuaternionStamped\n",
    "from grasp_and_pour_methods import openGripper, align_to, closeGripper, tilt, grasp\n",
    "\n",
    "# Before running this script make sure to start a giskard instance using 'roslaunch giskardpy giskardpy_hsr_mujoco.launch'\n",
    "# And before that the mujoco simulation has to be running\n",
    "rospy.init_node('graspAndPour')\n",
    "gis = GiskardWrapper()\n",
    "\n",
    "# Define some parameters used in the movement function\n",
    "# The endeffector link of the robot\n",
    "robot_eeff = 'hand_palm_link'\n",
    "\n",
    "# Axis of the eeff that should be upright\n",
    "upright_axis = Vector3Stamped()\n",
    "upright_axis.header.frame_id = robot_eeff\n",
    "upright_axis.vector.x = 1\n",
    "\n",
    "# A second axis of the eeff. Can be aligned to the x-axis of goal objects\n",
    "second_axis = Vector3Stamped()\n",
    "second_axis.header.frame_id = robot_eeff\n",
    "second_axis.vector.z = 1\n",
    "\n",
    "# Grasp the free cup from front side \n",
    "grasp(gis, 'free_cup', robot_eeff, 'front', upright_axis, second_axis)\n",
    "\n",
    "# Here the grasped cup is added to the kinematic model of the robot.\n",
    "# It is done to use the frame of the cup as a controlled frame.\n",
    "# This can be skipped if the 'hand_palm_link' should be used as a controlled frame after grasping.\n",
    "# First define the current pose of the grasped cup\n",
    "cup_pose = PoseStamped()\n",
    "cup_pose.header.frame_id = 'free_cup'\n",
    "cup_pose.pose.position = Point(0, 0, 0)\n",
    "cup_pose.pose.orientation.w = 1\n",
    "# Add the cup to the robot model name 'grasped_cup' and the known dimensions\n",
    "gis.world.add_box('grasped_cup', (0.07, 0.07, 0.18), pose=cup_pose, parent_link=robot_eeff)\n",
    "# Now update the robot_eeff reference to use the grasped cup\n",
    "robot_eeff = 'grasped_cup'\n",
    "\n",
    "# This aligns the control frame to the left of the object frame in a distance of 0.13m.\n",
    "# Additionally, the control frame is 0.2m higher than the object frame. The second_distance paramter can be used to\n",
    "# to set an offset in the remaining dimension, here the x-axis of the object frame\n",
    "align_to(gis, 'left', axis_align_to_z=upright_axis, object_frame='free_cup2', control_frame=robot_eeff,\n",
    "         axis_align_to_x=second_axis, distance=0.13, height_offset=0.2, second_distance=0.0)\n",
    "\n",
    "# Prepare tilting be defining a tilt axis\n",
    "rotation_axis = Vector3Stamped()\n",
    "rotation_axis.header.frame_id = robot_eeff\n",
    "rotation_axis.vector.z = 1\n",
    "\n",
    "# Tilt the controlled_frame by angle around the rotation axis with a maximum velocity of velocity.\n",
    "tilt(gis, angle=1.7, velocity=1.0, rotation_axis=rotation_axis, controlled_frame='hand_palm_link')\n"
   ]
  }
 ],
 "metadata": {
  "kernelspec": {
   "display_name": "Python 3 (ipykernel)",
   "language": "python",
   "name": "python3"
  },
  "language_info": {
   "codemirror_mode": {
    "name": "ipython",
    "version": 3
   },
   "file_extension": ".py",
   "mimetype": "text/x-python",
   "name": "python",
   "nbconvert_exporter": "python",
   "pygments_lexer": "ipython3",
   "version": "3.10.6"
  }
 },
 "nbformat": 4,
 "nbformat_minor": 5
}
